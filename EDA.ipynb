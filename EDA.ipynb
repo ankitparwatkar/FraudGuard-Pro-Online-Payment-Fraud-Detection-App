{
 "cells": [
  {
   "cell_type": "code",
   "execution_count": 4,
   "id": "7e4c3172",
   "metadata": {},
   "outputs": [],
   "source": [
    "# Import necessary libraries\n",
    "import pandas as pd\n",
    "import matplotlib.pyplot as plt\n",
    "import seaborn as sns"
   ]
  },
  {
   "cell_type": "markdown",
   "id": "981411aa",
   "metadata": {},
   "source": [
    "# 1. Load the Dataset"
   ]
  },
  {
   "cell_type": "code",
   "execution_count": null,
   "id": "c69a0968",
   "metadata": {},
   "outputs": [],
   "source": [
    "# Load the data from the CSV file into a pandas DataFrame.\n",
    "df = pd.read_csv('credit card.csv')\n",
    "print(\"✅ Dataset loaded successfully!\")"
   ]
  },
  {
   "cell_type": "markdown",
   "id": "2880db75",
   "metadata": {},
   "source": [
    "# 2. Initial Data Inspection"
   ]
  },
  {
   "cell_type": "code",
   "execution_count": 6,
   "id": "0f528649",
   "metadata": {},
   "outputs": [
    {
     "name": "stdout",
     "output_type": "stream",
     "text": [
      "\n",
      "--- Initial Data Inspection ---\n",
      "\n",
      "📋 First 5 Rows (Head):\n"
     ]
    },
    {
     "data": {
      "application/vnd.microsoft.datawrangler.viewer.v0+json": {
       "columns": [
        {
         "name": "index",
         "rawType": "int64",
         "type": "integer"
        },
        {
         "name": "step",
         "rawType": "int64",
         "type": "integer"
        },
        {
         "name": "type",
         "rawType": "object",
         "type": "string"
        },
        {
         "name": "amount",
         "rawType": "float64",
         "type": "float"
        },
        {
         "name": "nameOrig",
         "rawType": "object",
         "type": "string"
        },
        {
         "name": "oldbalanceOrg",
         "rawType": "float64",
         "type": "float"
        },
        {
         "name": "newbalanceOrig",
         "rawType": "float64",
         "type": "float"
        },
        {
         "name": "nameDest",
         "rawType": "object",
         "type": "string"
        },
        {
         "name": "oldbalanceDest",
         "rawType": "float64",
         "type": "float"
        },
        {
         "name": "newbalanceDest",
         "rawType": "float64",
         "type": "float"
        },
        {
         "name": "isFraud",
         "rawType": "int64",
         "type": "integer"
        },
        {
         "name": "isFlaggedFraud",
         "rawType": "int64",
         "type": "integer"
        }
       ],
       "ref": "192fa41b-8b24-4471-b370-3c03a9df2183",
       "rows": [
        [
         "0",
         "1",
         "PAYMENT",
         "9839.64",
         "C1231006815",
         "170136.0",
         "160296.36",
         "M1979787155",
         "0.0",
         "0.0",
         "0",
         "0"
        ],
        [
         "1",
         "1",
         "PAYMENT",
         "1864.28",
         "C1666544295",
         "21249.0",
         "19384.72",
         "M2044282225",
         "0.0",
         "0.0",
         "0",
         "0"
        ],
        [
         "2",
         "1",
         "TRANSFER",
         "181.0",
         "C1305486145",
         "181.0",
         "0.0",
         "C553264065",
         "0.0",
         "0.0",
         "1",
         "0"
        ],
        [
         "3",
         "1",
         "CASH_OUT",
         "181.0",
         "C840083671",
         "181.0",
         "0.0",
         "C38997010",
         "21182.0",
         "0.0",
         "1",
         "0"
        ],
        [
         "4",
         "1",
         "PAYMENT",
         "11668.14",
         "C2048537720",
         "41554.0",
         "29885.86",
         "M1230701703",
         "0.0",
         "0.0",
         "0",
         "0"
        ]
       ],
       "shape": {
        "columns": 11,
        "rows": 5
       }
      },
      "text/html": [
       "<div>\n",
       "<style scoped>\n",
       "    .dataframe tbody tr th:only-of-type {\n",
       "        vertical-align: middle;\n",
       "    }\n",
       "\n",
       "    .dataframe tbody tr th {\n",
       "        vertical-align: top;\n",
       "    }\n",
       "\n",
       "    .dataframe thead th {\n",
       "        text-align: right;\n",
       "    }\n",
       "</style>\n",
       "<table border=\"1\" class=\"dataframe\">\n",
       "  <thead>\n",
       "    <tr style=\"text-align: right;\">\n",
       "      <th></th>\n",
       "      <th>step</th>\n",
       "      <th>type</th>\n",
       "      <th>amount</th>\n",
       "      <th>nameOrig</th>\n",
       "      <th>oldbalanceOrg</th>\n",
       "      <th>newbalanceOrig</th>\n",
       "      <th>nameDest</th>\n",
       "      <th>oldbalanceDest</th>\n",
       "      <th>newbalanceDest</th>\n",
       "      <th>isFraud</th>\n",
       "      <th>isFlaggedFraud</th>\n",
       "    </tr>\n",
       "  </thead>\n",
       "  <tbody>\n",
       "    <tr>\n",
       "      <th>0</th>\n",
       "      <td>1</td>\n",
       "      <td>PAYMENT</td>\n",
       "      <td>9839.64</td>\n",
       "      <td>C1231006815</td>\n",
       "      <td>170136.0</td>\n",
       "      <td>160296.36</td>\n",
       "      <td>M1979787155</td>\n",
       "      <td>0.0</td>\n",
       "      <td>0.0</td>\n",
       "      <td>0</td>\n",
       "      <td>0</td>\n",
       "    </tr>\n",
       "    <tr>\n",
       "      <th>1</th>\n",
       "      <td>1</td>\n",
       "      <td>PAYMENT</td>\n",
       "      <td>1864.28</td>\n",
       "      <td>C1666544295</td>\n",
       "      <td>21249.0</td>\n",
       "      <td>19384.72</td>\n",
       "      <td>M2044282225</td>\n",
       "      <td>0.0</td>\n",
       "      <td>0.0</td>\n",
       "      <td>0</td>\n",
       "      <td>0</td>\n",
       "    </tr>\n",
       "    <tr>\n",
       "      <th>2</th>\n",
       "      <td>1</td>\n",
       "      <td>TRANSFER</td>\n",
       "      <td>181.00</td>\n",
       "      <td>C1305486145</td>\n",
       "      <td>181.0</td>\n",
       "      <td>0.00</td>\n",
       "      <td>C553264065</td>\n",
       "      <td>0.0</td>\n",
       "      <td>0.0</td>\n",
       "      <td>1</td>\n",
       "      <td>0</td>\n",
       "    </tr>\n",
       "    <tr>\n",
       "      <th>3</th>\n",
       "      <td>1</td>\n",
       "      <td>CASH_OUT</td>\n",
       "      <td>181.00</td>\n",
       "      <td>C840083671</td>\n",
       "      <td>181.0</td>\n",
       "      <td>0.00</td>\n",
       "      <td>C38997010</td>\n",
       "      <td>21182.0</td>\n",
       "      <td>0.0</td>\n",
       "      <td>1</td>\n",
       "      <td>0</td>\n",
       "    </tr>\n",
       "    <tr>\n",
       "      <th>4</th>\n",
       "      <td>1</td>\n",
       "      <td>PAYMENT</td>\n",
       "      <td>11668.14</td>\n",
       "      <td>C2048537720</td>\n",
       "      <td>41554.0</td>\n",
       "      <td>29885.86</td>\n",
       "      <td>M1230701703</td>\n",
       "      <td>0.0</td>\n",
       "      <td>0.0</td>\n",
       "      <td>0</td>\n",
       "      <td>0</td>\n",
       "    </tr>\n",
       "  </tbody>\n",
       "</table>\n",
       "</div>"
      ],
      "text/plain": [
       "   step      type    amount     nameOrig  oldbalanceOrg  newbalanceOrig  \\\n",
       "0     1   PAYMENT   9839.64  C1231006815       170136.0       160296.36   \n",
       "1     1   PAYMENT   1864.28  C1666544295        21249.0        19384.72   \n",
       "2     1  TRANSFER    181.00  C1305486145          181.0            0.00   \n",
       "3     1  CASH_OUT    181.00   C840083671          181.0            0.00   \n",
       "4     1   PAYMENT  11668.14  C2048537720        41554.0        29885.86   \n",
       "\n",
       "      nameDest  oldbalanceDest  newbalanceDest  isFraud  isFlaggedFraud  \n",
       "0  M1979787155             0.0             0.0        0               0  \n",
       "1  M2044282225             0.0             0.0        0               0  \n",
       "2   C553264065             0.0             0.0        1               0  \n",
       "3    C38997010         21182.0             0.0        1               0  \n",
       "4  M1230701703             0.0             0.0        0               0  "
      ]
     },
     "execution_count": 6,
     "metadata": {},
     "output_type": "execute_result"
    }
   ],
   "source": [
    "# Get a first look at the data's structure and content.\n",
    "print(\"\\n--- Initial Data Inspection ---\")\n",
    "# Display the first 5 rows of the dataset\n",
    "print(\"\\n📋 First 5 Rows (Head):\")\n",
    "df.head()"
   ]
  },
  {
   "cell_type": "code",
   "execution_count": 7,
   "id": "7494f30a",
   "metadata": {},
   "outputs": [
    {
     "name": "stdout",
     "output_type": "stream",
     "text": [
      "\n",
      "ℹ️ Data Info:\n",
      "<class 'pandas.core.frame.DataFrame'>\n",
      "RangeIndex: 3142 entries, 0 to 3141\n",
      "Data columns (total 11 columns):\n",
      " #   Column          Non-Null Count  Dtype  \n",
      "---  ------          --------------  -----  \n",
      " 0   step            3142 non-null   int64  \n",
      " 1   type            3142 non-null   object \n",
      " 2   amount          3142 non-null   float64\n",
      " 3   nameOrig        3142 non-null   object \n",
      " 4   oldbalanceOrg   3142 non-null   float64\n",
      " 5   newbalanceOrig  3142 non-null   float64\n",
      " 6   nameDest        3142 non-null   object \n",
      " 7   oldbalanceDest  3142 non-null   float64\n",
      " 8   newbalanceDest  3142 non-null   float64\n",
      " 9   isFraud         3142 non-null   int64  \n",
      " 10  isFlaggedFraud  3142 non-null   int64  \n",
      "dtypes: float64(5), int64(3), object(3)\n",
      "memory usage: 270.1+ KB\n"
     ]
    }
   ],
   "source": [
    "# Get a concise summary of the DataFrame, including data types and non-null values.\n",
    "print(\"\\nℹ️ Data Info:\")\n",
    "df.info()"
   ]
  },
  {
   "cell_type": "code",
   "execution_count": 9,
   "id": "41ba6c1c",
   "metadata": {},
   "outputs": [
    {
     "name": "stdout",
     "output_type": "stream",
     "text": [
      "\n",
      "📊 Descriptive Statistics:\n"
     ]
    },
    {
     "data": {
      "application/vnd.microsoft.datawrangler.viewer.v0+json": {
       "columns": [
        {
         "name": "index",
         "rawType": "object",
         "type": "string"
        },
        {
         "name": "step",
         "rawType": "float64",
         "type": "float"
        },
        {
         "name": "amount",
         "rawType": "float64",
         "type": "float"
        },
        {
         "name": "oldbalanceOrg",
         "rawType": "float64",
         "type": "float"
        },
        {
         "name": "newbalanceOrig",
         "rawType": "float64",
         "type": "float"
        },
        {
         "name": "oldbalanceDest",
         "rawType": "float64",
         "type": "float"
        },
        {
         "name": "newbalanceDest",
         "rawType": "float64",
         "type": "float"
        },
        {
         "name": "isFraud",
         "rawType": "float64",
         "type": "float"
        },
        {
         "name": "isFlaggedFraud",
         "rawType": "float64",
         "type": "float"
        }
       ],
       "ref": "62e639ae-5b79-4671-bb48-3777e55ed7ee",
       "rows": [
        [
         "count",
         "3142.0",
         "3142.0",
         "3142.0",
         "3142.0",
         "3142.0",
         "3142.0",
         "3142.0",
         "3142.0"
        ],
        [
         "mean",
         "18.181731381285804",
         "504175.3163017187",
         "938007.8371674094",
         "516634.21790260985",
         "603450.1547008276",
         "1038511.9053437301",
         "0.3679185232336092",
         "0.0"
        ],
        [
         "std",
         "27.91792920141157",
         "1345890.6257035702",
         "2066633.7296377723",
         "1657465.1787513131",
         "1973508.020934218",
         "2815901.997618716",
         "0.48231579059111596",
         "0.0"
        ],
        [
         "min",
         "1.0",
         "8.73",
         "0.0",
         "0.0",
         "0.0",
         "0.0",
         "0.0",
         "0.0"
        ],
        [
         "25%",
         "1.0",
         "6527.6975",
         "4255.75",
         "0.0",
         "0.0",
         "0.0",
         "0.0",
         "0.0"
        ],
        [
         "50%",
         "1.0",
         "61169.01",
         "50752.0",
         "0.0",
         "0.0",
         "0.0",
         "0.0",
         "0.0"
        ],
        [
         "75%",
         "33.0",
         "324074.725",
         "567932.31",
         "26219.73",
         "269784.6775",
         "638021.5974999999",
         "1.0",
         "0.0"
        ],
        [
         "max",
         "95.0",
         "10000000.0",
         "19900000.0",
         "10200000.0",
         "33000000.0",
         "34600000.0",
         "1.0",
         "0.0"
        ]
       ],
       "shape": {
        "columns": 8,
        "rows": 8
       }
      },
      "text/html": [
       "<div>\n",
       "<style scoped>\n",
       "    .dataframe tbody tr th:only-of-type {\n",
       "        vertical-align: middle;\n",
       "    }\n",
       "\n",
       "    .dataframe tbody tr th {\n",
       "        vertical-align: top;\n",
       "    }\n",
       "\n",
       "    .dataframe thead th {\n",
       "        text-align: right;\n",
       "    }\n",
       "</style>\n",
       "<table border=\"1\" class=\"dataframe\">\n",
       "  <thead>\n",
       "    <tr style=\"text-align: right;\">\n",
       "      <th></th>\n",
       "      <th>step</th>\n",
       "      <th>amount</th>\n",
       "      <th>oldbalanceOrg</th>\n",
       "      <th>newbalanceOrig</th>\n",
       "      <th>oldbalanceDest</th>\n",
       "      <th>newbalanceDest</th>\n",
       "      <th>isFraud</th>\n",
       "      <th>isFlaggedFraud</th>\n",
       "    </tr>\n",
       "  </thead>\n",
       "  <tbody>\n",
       "    <tr>\n",
       "      <th>count</th>\n",
       "      <td>3142.000000</td>\n",
       "      <td>3.142000e+03</td>\n",
       "      <td>3.142000e+03</td>\n",
       "      <td>3.142000e+03</td>\n",
       "      <td>3.142000e+03</td>\n",
       "      <td>3.142000e+03</td>\n",
       "      <td>3142.000000</td>\n",
       "      <td>3142.0</td>\n",
       "    </tr>\n",
       "    <tr>\n",
       "      <th>mean</th>\n",
       "      <td>18.181731</td>\n",
       "      <td>5.041753e+05</td>\n",
       "      <td>9.380078e+05</td>\n",
       "      <td>5.166342e+05</td>\n",
       "      <td>6.034502e+05</td>\n",
       "      <td>1.038512e+06</td>\n",
       "      <td>0.367919</td>\n",
       "      <td>0.0</td>\n",
       "    </tr>\n",
       "    <tr>\n",
       "      <th>std</th>\n",
       "      <td>27.917929</td>\n",
       "      <td>1.345891e+06</td>\n",
       "      <td>2.066634e+06</td>\n",
       "      <td>1.657465e+06</td>\n",
       "      <td>1.973508e+06</td>\n",
       "      <td>2.815902e+06</td>\n",
       "      <td>0.482316</td>\n",
       "      <td>0.0</td>\n",
       "    </tr>\n",
       "    <tr>\n",
       "      <th>min</th>\n",
       "      <td>1.000000</td>\n",
       "      <td>8.730000e+00</td>\n",
       "      <td>0.000000e+00</td>\n",
       "      <td>0.000000e+00</td>\n",
       "      <td>0.000000e+00</td>\n",
       "      <td>0.000000e+00</td>\n",
       "      <td>0.000000</td>\n",
       "      <td>0.0</td>\n",
       "    </tr>\n",
       "    <tr>\n",
       "      <th>25%</th>\n",
       "      <td>1.000000</td>\n",
       "      <td>6.527698e+03</td>\n",
       "      <td>4.255750e+03</td>\n",
       "      <td>0.000000e+00</td>\n",
       "      <td>0.000000e+00</td>\n",
       "      <td>0.000000e+00</td>\n",
       "      <td>0.000000</td>\n",
       "      <td>0.0</td>\n",
       "    </tr>\n",
       "    <tr>\n",
       "      <th>50%</th>\n",
       "      <td>1.000000</td>\n",
       "      <td>6.116901e+04</td>\n",
       "      <td>5.075200e+04</td>\n",
       "      <td>0.000000e+00</td>\n",
       "      <td>0.000000e+00</td>\n",
       "      <td>0.000000e+00</td>\n",
       "      <td>0.000000</td>\n",
       "      <td>0.0</td>\n",
       "    </tr>\n",
       "    <tr>\n",
       "      <th>75%</th>\n",
       "      <td>33.000000</td>\n",
       "      <td>3.240747e+05</td>\n",
       "      <td>5.679323e+05</td>\n",
       "      <td>2.621973e+04</td>\n",
       "      <td>2.697847e+05</td>\n",
       "      <td>6.380216e+05</td>\n",
       "      <td>1.000000</td>\n",
       "      <td>0.0</td>\n",
       "    </tr>\n",
       "    <tr>\n",
       "      <th>max</th>\n",
       "      <td>95.000000</td>\n",
       "      <td>1.000000e+07</td>\n",
       "      <td>1.990000e+07</td>\n",
       "      <td>1.020000e+07</td>\n",
       "      <td>3.300000e+07</td>\n",
       "      <td>3.460000e+07</td>\n",
       "      <td>1.000000</td>\n",
       "      <td>0.0</td>\n",
       "    </tr>\n",
       "  </tbody>\n",
       "</table>\n",
       "</div>"
      ],
      "text/plain": [
       "              step        amount  oldbalanceOrg  newbalanceOrig  \\\n",
       "count  3142.000000  3.142000e+03   3.142000e+03    3.142000e+03   \n",
       "mean     18.181731  5.041753e+05   9.380078e+05    5.166342e+05   \n",
       "std      27.917929  1.345891e+06   2.066634e+06    1.657465e+06   \n",
       "min       1.000000  8.730000e+00   0.000000e+00    0.000000e+00   \n",
       "25%       1.000000  6.527698e+03   4.255750e+03    0.000000e+00   \n",
       "50%       1.000000  6.116901e+04   5.075200e+04    0.000000e+00   \n",
       "75%      33.000000  3.240747e+05   5.679323e+05    2.621973e+04   \n",
       "max      95.000000  1.000000e+07   1.990000e+07    1.020000e+07   \n",
       "\n",
       "       oldbalanceDest  newbalanceDest      isFraud  isFlaggedFraud  \n",
       "count    3.142000e+03    3.142000e+03  3142.000000          3142.0  \n",
       "mean     6.034502e+05    1.038512e+06     0.367919             0.0  \n",
       "std      1.973508e+06    2.815902e+06     0.482316             0.0  \n",
       "min      0.000000e+00    0.000000e+00     0.000000             0.0  \n",
       "25%      0.000000e+00    0.000000e+00     0.000000             0.0  \n",
       "50%      0.000000e+00    0.000000e+00     0.000000             0.0  \n",
       "75%      2.697847e+05    6.380216e+05     1.000000             0.0  \n",
       "max      3.300000e+07    3.460000e+07     1.000000             0.0  "
      ]
     },
     "execution_count": 9,
     "metadata": {},
     "output_type": "execute_result"
    }
   ],
   "source": [
    "# Generate descriptive statistics for numerical columns.\n",
    "print(\"\\n📊 Descriptive Statistics:\")\n",
    "df.describe()"
   ]
  },
  {
   "cell_type": "code",
   "execution_count": 10,
   "id": "b7f211c1",
   "metadata": {},
   "outputs": [
    {
     "name": "stdout",
     "output_type": "stream",
     "text": [
      "\n",
      "❓ Missing Values:\n",
      "step              0\n",
      "type              0\n",
      "amount            0\n",
      "nameOrig          0\n",
      "oldbalanceOrg     0\n",
      "newbalanceOrig    0\n",
      "nameDest          0\n",
      "oldbalanceDest    0\n",
      "newbalanceDest    0\n",
      "isFraud           0\n",
      "isFlaggedFraud    0\n",
      "dtype: int64\n"
     ]
    }
   ],
   "source": [
    "# Check for any missing values in the dataset.\n",
    "print(\"\\n❓ Missing Values:\")\n",
    "print(df.isnull().sum())"
   ]
  },
  {
   "cell_type": "markdown",
   "id": "2812ed5e",
   "metadata": {},
   "source": [
    "# 3. Analyzing Fraudulent Transactions"
   ]
  },
  {
   "cell_type": "code",
   "execution_count": 11,
   "id": "dc138334",
   "metadata": {},
   "outputs": [
    {
     "name": "stdout",
     "output_type": "stream",
     "text": [
      "\n",
      "--- Fraud Analysis ---\n",
      "\n",
      "Fraudulent vs. Non-Fraudulent Counts:\n",
      "isFraud\n",
      "0    1986\n",
      "1    1156\n",
      "Name: count, dtype: int64\n"
     ]
    }
   ],
   "source": [
    "# Understand the distribution of the target variable 'isFraud'.\n",
    "print(\"\\n--- Fraud Analysis ---\")\n",
    "# Count the occurrences of fraudulent vs. non-fraudulent transactions.\n",
    "fraud_counts = df['isFraud'].value_counts()\n",
    "print(\"\\nFraudulent vs. Non-Fraudulent Counts:\")\n",
    "print(fraud_counts)"
   ]
  },
  {
   "cell_type": "code",
   "execution_count": 12,
   "id": "78d9b3ee",
   "metadata": {},
   "outputs": [
    {
     "name": "stderr",
     "output_type": "stream",
     "text": [
      "C:\\Users\\ankit\\AppData\\Local\\Temp\\ipykernel_5940\\1593574371.py:3: FutureWarning: \n",
      "\n",
      "Passing `palette` without assigning `hue` is deprecated and will be removed in v0.14.0. Assign the `x` variable to `hue` and set `legend=False` for the same effect.\n",
      "\n",
      "  sns.countplot(x='isFraud', data=df, palette=['#3498db', '#e74c3c'])\n"
     ]
    },
    {
     "name": "stdout",
     "output_type": "stream",
     "text": [
      "\n",
      "📈 Saved plot: fraud_distribution.png\n"
     ]
    },
    {
     "data": {
      "text/plain": [
       "<Figure size 700x600 with 0 Axes>"
      ]
     },
     "metadata": {},
     "output_type": "display_data"
    }
   ],
   "source": [
    "# Visualize the distribution of fraudulent transactions.\n",
    "plt.figure(figsize=(7, 6))\n",
    "sns.countplot(x='isFraud', data=df, palette=['#3498db', '#e74c3c'])\n",
    "plt.title('Distribution of Fraudulent vs. Non-Fraudulent Transactions', fontsize=16)\n",
    "plt.xlabel('Is Fraud? (0: No, 1: Yes)', fontsize=12)\n",
    "plt.ylabel('Number of Transactions', fontsize=12)\n",
    "plt.xticks([0, 1], ['Non-Fraudulent', 'Fraudulent'])\n",
    "plt.grid(axis='y', linestyle='--', alpha=0.7)\n",
    "# plt.show() # Uncomment to display the plot\n",
    "plt.savefig('fraud_distribution.png')\n",
    "plt.clf()\n",
    "print(\"\\n📈 Saved plot: fraud_distribution.png\")"
   ]
  },
  {
   "cell_type": "markdown",
   "id": "38ce743d",
   "metadata": {},
   "source": [
    "# 4. Analyzing Transaction Types"
   ]
  },
  {
   "cell_type": "code",
   "execution_count": 13,
   "id": "d0b86523",
   "metadata": {},
   "outputs": [
    {
     "name": "stdout",
     "output_type": "stream",
     "text": [
      "\n",
      "--- Transaction Type Analysis ---\n",
      "\n",
      "Transaction Type Counts:\n",
      "type\n",
      "PAYMENT     998\n",
      "CASH_OUT    926\n",
      "TRANSFER    791\n",
      "CASH_IN     311\n",
      "DEBIT       116\n",
      "Name: count, dtype: int64\n"
     ]
    }
   ],
   "source": [
    "# Explore the different types of transactions and their relation to fraud.\n",
    "print(\"\\n--- Transaction Type Analysis ---\")\n",
    "# Count the number of transactions for each type.\n",
    "type_counts = df['type'].value_counts()\n",
    "print(\"\\nTransaction Type Counts:\")\n",
    "print(type_counts)"
   ]
  },
  {
   "cell_type": "code",
   "execution_count": 14,
   "id": "a3638b74",
   "metadata": {},
   "outputs": [
    {
     "name": "stdout",
     "output_type": "stream",
     "text": [
      "📈 Saved plot: transaction_types.png\n"
     ]
    },
    {
     "name": "stderr",
     "output_type": "stream",
     "text": [
      "C:\\Users\\ankit\\AppData\\Local\\Temp\\ipykernel_5940\\1459057984.py:3: FutureWarning: \n",
      "\n",
      "Passing `palette` without assigning `hue` is deprecated and will be removed in v0.14.0. Assign the `x` variable to `hue` and set `legend=False` for the same effect.\n",
      "\n",
      "  sns.countplot(x='type', data=df, order=type_counts.index, palette='viridis')\n"
     ]
    },
    {
     "data": {
      "text/plain": [
       "<Figure size 1000x600 with 0 Axes>"
      ]
     },
     "metadata": {},
     "output_type": "display_data"
    }
   ],
   "source": [
    "# Visualize the distribution of transaction types.\n",
    "plt.figure(figsize=(10, 6))\n",
    "sns.countplot(x='type', data=df, order=type_counts.index, palette='viridis')\n",
    "plt.title('Distribution of Transaction Types', fontsize=16)\n",
    "plt.xlabel('Transaction Type', fontsize=12)\n",
    "plt.ylabel('Number of Transactions', fontsize=12)\n",
    "# plt.show() # Uncomment to display the plot\n",
    "plt.savefig('transaction_types.png')\n",
    "plt.clf()\n",
    "print(\"📈 Saved plot: transaction_types.png\")"
   ]
  },
  {
   "cell_type": "code",
   "execution_count": 15,
   "id": "f6241749",
   "metadata": {},
   "outputs": [
    {
     "name": "stdout",
     "output_type": "stream",
     "text": [
      "📈 Saved plot: fraud_by_type.png\n"
     ]
    },
    {
     "data": {
      "text/plain": [
       "<Figure size 1000x600 with 0 Axes>"
      ]
     },
     "metadata": {},
     "output_type": "display_data"
    }
   ],
   "source": [
    "# Visualize fraudulent transactions broken down by type.\n",
    "plt.figure(figsize=(10, 6))\n",
    "sns.countplot(x='type', hue='isFraud', data=df, order=type_counts.index, palette=['#3498db', '#e74c3c'])\n",
    "plt.title('Fraudulent Transactions by Type', fontsize=16)\n",
    "plt.xlabel('Transaction Type', fontsize=12)\n",
    "plt.ylabel('Number of Transactions', fontsize=12)\n",
    "plt.legend(title='Is Fraud?', labels=['Non-Fraudulent', 'Fraudulent'])\n",
    "# plt.show() # Uncomment to display the plot\n",
    "plt.savefig('fraud_by_type.png')\n",
    "plt.clf()\n",
    "print(\"📈 Saved plot: fraud_by_type.png\")"
   ]
  },
  {
   "cell_type": "markdown",
   "id": "dadb8a1c",
   "metadata": {},
   "source": [
    "# 5. Correlation Analysis"
   ]
  },
  {
   "cell_type": "code",
   "execution_count": 17,
   "id": "93e8a421",
   "metadata": {},
   "outputs": [
    {
     "name": "stdout",
     "output_type": "stream",
     "text": [
      "\n",
      "--- Correlation Analysis ---\n",
      "📈 Saved plot: correlation_matrix.png\n",
      "\n",
      "Correlation with 'isFraud':\n",
      "isFraud           1.000000\n",
      "step              0.806796\n",
      "amount            0.383737\n",
      "oldbalanceOrg     0.099037\n",
      "newbalanceDest    0.009942\n",
      "oldbalanceDest   -0.060313\n",
      "newbalanceOrig   -0.222409\n",
      "isFlaggedFraud         NaN\n",
      "Name: isFraud, dtype: float64\n"
     ]
    },
    {
     "data": {
      "text/plain": [
       "<Figure size 1200x1000 with 0 Axes>"
      ]
     },
     "metadata": {},
     "output_type": "display_data"
    }
   ],
   "source": [
    "# Investigate the relationships between numerical features.\n",
    "\n",
    "print(\"\\n--- Correlation Analysis ---\")\n",
    "# Calculate the correlation matrix for numerical columns.\n",
    "correlation_matrix = df.corr(numeric_only=True)\n",
    "\n",
    "# Plot a heatmap of the correlation matrix.\n",
    "plt.figure(figsize=(12, 10))\n",
    "sns.heatmap(correlation_matrix, annot=True, cmap='coolwarm', fmt=\".2f\", linewidths=.5)\n",
    "plt.title('Correlation Matrix of Numerical Features', fontsize=16)\n",
    "# plt.show() # Uncomment to display the plot\n",
    "plt.savefig('correlation_matrix.png')\n",
    "plt.clf()\n",
    "print(\"📈 Saved plot: correlation_matrix.png\")\n",
    "\n",
    "# Display the correlation values with the 'isFraud' column, sorted.\n",
    "print(\"\\nCorrelation with 'isFraud':\")\n",
    "print(correlation_matrix['isFraud'].sort_values(ascending=False))"
   ]
  }
 ],
 "metadata": {
  "kernelspec": {
   "display_name": "Python 3",
   "language": "python",
   "name": "python3"
  },
  "language_info": {
   "codemirror_mode": {
    "name": "ipython",
    "version": 3
   },
   "file_extension": ".py",
   "mimetype": "text/x-python",
   "name": "python",
   "nbconvert_exporter": "python",
   "pygments_lexer": "ipython3",
   "version": "3.13.4"
  }
 },
 "nbformat": 4,
 "nbformat_minor": 5
}
